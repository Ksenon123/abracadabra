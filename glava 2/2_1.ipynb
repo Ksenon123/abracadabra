{
 "cells": [
  {
   "cell_type": "markdown",
   "metadata": {},
   "source": [
    "# Раздел 2"
   ]
  },
  {
   "attachments": {},
   "cell_type": "markdown",
   "metadata": {},
   "source": [
    "### Задание 2.1"
   ]
  },
  {
   "cell_type": "code",
   "execution_count": 7,
   "metadata": {},
   "outputs": [
    {
     "data": {
      "text/html": [
       "<div>\n",
       "<style scoped>\n",
       "    .dataframe tbody tr th:only-of-type {\n",
       "        vertical-align: middle;\n",
       "    }\n",
       "\n",
       "    .dataframe tbody tr th {\n",
       "        vertical-align: top;\n",
       "    }\n",
       "\n",
       "    .dataframe thead th {\n",
       "        text-align: right;\n",
       "    }\n",
       "</style>\n",
       "<table border=\"1\" class=\"dataframe\">\n",
       "  <thead>\n",
       "    <tr style=\"text-align: right;\">\n",
       "      <th></th>\n",
       "      <th>heights</th>\n",
       "      <th>weights</th>\n",
       "      <th>ages</th>\n",
       "    </tr>\n",
       "  </thead>\n",
       "  <tbody>\n",
       "    <tr>\n",
       "      <th>0</th>\n",
       "      <td>188</td>\n",
       "      <td>86</td>\n",
       "      <td>58</td>\n",
       "    </tr>\n",
       "    <tr>\n",
       "      <th>1</th>\n",
       "      <td>172</td>\n",
       "      <td>71</td>\n",
       "      <td>61</td>\n",
       "    </tr>\n",
       "    <tr>\n",
       "      <th>2</th>\n",
       "      <td>187</td>\n",
       "      <td>89</td>\n",
       "      <td>54</td>\n",
       "    </tr>\n",
       "    <tr>\n",
       "      <th>3</th>\n",
       "      <td>161</td>\n",
       "      <td>64</td>\n",
       "      <td>54</td>\n",
       "    </tr>\n",
       "    <tr>\n",
       "      <th>4</th>\n",
       "      <td>183</td>\n",
       "      <td>83</td>\n",
       "      <td>58</td>\n",
       "    </tr>\n",
       "  </tbody>\n",
       "</table>\n",
       "</div>"
      ],
      "text/plain": [
       "   heights  weights  ages\n",
       "0      188       86    58\n",
       "1      172       71    61\n",
       "2      187       89    54\n",
       "3      161       64    54\n",
       "4      183       83    58"
      ]
     },
     "execution_count": 7,
     "metadata": {},
     "output_type": "execute_result"
    }
   ],
   "source": [
    "import pandas as pd \n",
    "\n",
    "heights = [188, 172, 187, 161, 183, 172, 185, 163, 173, 183, 174, 174, 175,\n",
    "178, 183, 195, 178, 173, 174, 183, 174, 181, 162, 180, 170, 175, 182, 180, 183,\n",
    "178, 182, 188, 175, 179, 184, 193, 182, 183, 175, 185, 182, 183, 156, 185, 199] \n",
    "weights = [86, 71, 89, 64, 83, 71, 86, 68, 73, 84, 73, 72, 75, 78, 85, 93, 78,\n",
    "70, 74, 80, 83, 82, 68, 80, 73, 78, 82, 81, 83, 79, 82, 86, 76, 77, 80, 103,\n",
    "82, 83, 77, 89, 80, 85, 82, 85, 110] \n",
    "\n",
    "ages = [58, 61, 54, 54, 58, 57, 63, 54, 37, 51, 34, 26, 50, 48, 45, 52, 56,\n",
    "46, 54, 28, 52, 47, 55, 55, 54, 42, 51, 56, 55, 51, 54, 32, 21, 62, 43, 55,\n",
    "56, 61, 53, 22, 64, 45, 54, 47, 38] \n",
    "\n",
    "data={'heights':heights,'weights':weights,'ages':ages}\n",
    "df = pd.DataFrame(data)\n",
    "df.head()"
   ]
  },
  {
   "cell_type": "code",
   "execution_count": null,
   "metadata": {},
   "outputs": [],
   "source": []
  }
 ],
 "metadata": {
  "kernelspec": {
   "display_name": "Python 3",
   "language": "python",
   "name": "python3"
  },
  "language_info": {
   "codemirror_mode": {
    "name": "ipython",
    "version": 3
   },
   "file_extension": ".py",
   "mimetype": "text/x-python",
   "name": "python",
   "nbconvert_exporter": "python",
   "pygments_lexer": "ipython3",
   "version": "3.10.6"
  },
  "orig_nbformat": 4,
  "vscode": {
   "interpreter": {
    "hash": "3d8339e432030cf8d6bc4a316fe0272e8933724461f8aa8f9b602d3280b818dd"
   }
  }
 },
 "nbformat": 4,
 "nbformat_minor": 2
}
