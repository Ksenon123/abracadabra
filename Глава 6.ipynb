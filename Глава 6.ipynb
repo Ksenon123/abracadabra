{
 "cells": [
  {
   "attachments": {},
   "cell_type": "markdown",
   "metadata": {},
   "source": [
    "# Блок 6"
   ]
  },
  {
   "cell_type": "code",
   "execution_count": null,
   "metadata": {},
   "outputs": [
    {
     "ename": "",
     "evalue": "",
     "output_type": "error",
     "traceback": [
      "\u001b[1;31mДля выполнения ячеек с \"c:\\Users\\User\\AppData\\Local\\Programs\\Python\\Python310\\python.exe\" требуется пакет ipykernel.\n",
      "\u001b[1;31mRun the following command to install 'ipykernel' into the Python environment. \n",
      "\u001b[1;31mCommand: 'c:/Users/User/AppData/Local/Programs/Python/Python310/python.exe -m pip install ipykernel -U --user --force-reinstall'"
     ]
    }
   ],
   "source": [
    "import pandas as pd\n",
    "import matplotlib.pyplot as plt\n",
    "import numpy as np\n",
    "import sklearn\n",
    "\n",
    "df = pd.read_csv(\"heart.csv\")\n",
    "df\n",
    "\n",
    "import seaborn as sns\n",
    "sns.heatmap(df.corr())\n",
    "\n",
    "from sklearn.model_selection import train_test_split\n",
    "\n",
    "X = df.drop([\"target\"],axis=1)\n",
    "y = df['target']\n",
    "\n",
    "X_train, X_test, y_train, y_test = train_test_split(X, y, test_size=0.3)\n",
    "\n",
    "from sklearn.neighbors import KNeighborsClassifier\n",
    "model = KNeighborsClassifier(n_neighbors = 5)\n",
    "model.fit(X_train, y_train)\n",
    "\n",
    "predictions = model.predict(X_test)\n",
    "predictions\n",
    "\n",
    "f, (ax1, ax2) = plt.subplots(1, 2, sharey=True,figsize=(10,6))\n",
    "ax1.set_title('Наши предсказания')\n",
    "ax1.scatter(X_test['trestbps'], X_test['thalach'], c=predictions, cmap= 'tab10')\n",
    "ax2.set_title('Реальные значения')\n",
    "ax2.scatter(X_test['trestbps'], X_test['thalach'],c=y_test, cmap='tab10');\n",
    "\n",
    "print(\"Accuracy:\", model.score(X_test, y_test))\n",
    "\n",
    "\"\"\"ДЕРЕВО РЕШЕНИЙ\"\"\"\n",
    "\n",
    "from sklearn.tree import DecisionTreeClassifier\n",
    "\n",
    "clf = DecisionTreeClassifier(max_depth=5)\n",
    "clf = clf.fit(X_train,y_train)\n",
    "\n",
    "prediction = clf.predict(X_test)\n",
    "\n",
    "f, (ax1, ax2) = plt.subplots(1, 2, sharey=True,figsize=(10,6))\n",
    "ax1.set_title('Наши предсказания')\n",
    "ax1.scatter(X_test['trestbps'], X_test['thalach'], c=predictions, cmap= 'tab10')\n",
    "ax2.set_title('Реальные значения')\n",
    "ax2.scatter(X_test['trestbps'], X_test['thalach'],c=y_test, cmap='tab10');\n",
    "\n",
    "print(\"Accuracy:\", clf.score(X_test, y_test))\n",
    "\n",
    "from sklearn.neural_network import MLPClassifier\n",
    "mlp = MLPClassifier()\n",
    "mlp = mlp.fit(X_train, y_train)\n",
    "\n",
    "prediction = mlp.predict(X_test)\n",
    "print(\"Accuracy:\", mlp.score(X_test, y_test))\n",
    "\n",
    "f, (ax1, ax2) = plt.subplots(1, 2, sharey=True,figsize=(10,6))\n",
    "ax1.set_title('Наши предсказания')\n",
    "ax1.scatter(X_test['trestbps'], X_test['thalach'], c=predictions, cmap= 'tab10')\n",
    "ax2.set_title('Реальные значения')\n",
    "ax2.scatter(X_test['trestbps'], X_test['thalach'],c=y_test, cmap='tab10');\n"
   ]
  }
 ],
 "metadata": {
  "kernelspec": {
   "display_name": "Python 3",
   "language": "python",
   "name": "python3"
  },
  "language_info": {
   "name": "python",
   "version": "3.10.2"
  },
  "orig_nbformat": 4
 },
 "nbformat": 4,
 "nbformat_minor": 2
}
